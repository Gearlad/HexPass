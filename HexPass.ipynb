{
 "cells": [
  {
   "cell_type": "markdown",
   "metadata": {},
   "source": [
    "# HexPass\n",
    "此程式碼的範圍：利用網站用戶的個人資料來透過深度學習猜出帳號密碼\n",
    "\n",
    "## 組員\n",
    "韓哈斯 台灣大學資訊工程大二\n",
    "\n",
    "## 介紹\n",
    "在2019年初駭客偷了歷史上最大的個人資料庫，包括十億個帳號的密碼。而現在有許多網站由於駭客所到來的影響，就無法向使用者確保100%安全性。也許百分之百安全是一個無法達到的目標。這並非為最近才開始的事情，但因為深度學習的發展，這些駭客很容易就能進接到一個更加厲害的平台去抓他人敏感資料。\n",
    "實際上我們也可以當白帽駭客，透過深度學習加強我們帳號的安全性。\n",
    "\n",
    "## Background\n",
    "There are two general ways of going about hacking a password: dictionary attack and brute force attack. A dictionary attack uses combinations of words in order to generate potential passwords. But using a stochastic permutation might not be ideal. There should be data that password generation is calculated from.\n",
    "My plan is to use deep learning to optimise the process of creating these words in the form of a dictionary attack.\n",
    "\n",
    "## Finding Data\n",
    "There are many, many different types of passwords that require entirely different levels of security. The level of security required for a wifi password versus for an FTP server with sensitive data are massively variant. HexPass is focused on cracking passwords from typical web servers.\n",
    "\n",
    "\n",
    "## Databases and Files Used\n",
    "This repository contains every English word in existence, with over 500000 words. https://github.com/dwyl/english-words\n",
    "I am still looking for good sources that match passwords to usernames and other relevant information.\n",
    "\n",
    "## 排程\n",
    "- 5/25 更新README.md\n",
    "- 5/27 尋找密碼資料庫\n",
    "- 5/28 開始嘗試訓練神經網路\n",
    "- 5/31 完成把可跑的程式原型implement出來\n",
    "- 6/1-6/7 最後的調整及優化\n",
    "\n",
    "## 目前進度: 20%\n",
    "我目前正在找尋適合用來順利案我的深度學習模型的一個資料庫或者csv file。\n"
   ]
  }
 ],
 "metadata": {
  "kernelspec": {
   "display_name": "Python 3",
   "language": "python",
   "name": "python3"
  },
  "language_info": {
   "codemirror_mode": {
    "name": "ipython",
    "version": 3
   },
   "file_extension": ".py",
   "mimetype": "text/x-python",
   "name": "python",
   "nbconvert_exporter": "python",
   "pygments_lexer": "ipython3",
   "version": "3.6.8"
  }
 },
 "nbformat": 4,
 "nbformat_minor": 2
}
